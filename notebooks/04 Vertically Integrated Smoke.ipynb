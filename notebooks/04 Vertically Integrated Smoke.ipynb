{
 "cells": [
  {
   "cell_type": "markdown",
   "id": "8ddd0ed1-da7a-4dc8-9285-ef036bf8b544",
   "metadata": {},
   "source": [
    "# Vertically Integrated Smoke"
   ]
  },
  {
   "cell_type": "code",
   "execution_count": 1,
   "id": "e6611752-d7bc-42c7-a877-cd8d02fbcba8",
   "metadata": {},
   "outputs": [],
   "source": [
    "import pygrib"
   ]
  },
  {
   "cell_type": "code",
   "execution_count": 2,
   "id": "76ee2bab-c5fa-4380-8405-9a7473dde0e6",
   "metadata": {},
   "outputs": [],
   "source": [
    "msgs = pygrib.open(\"data/2201216000001\")"
   ]
  },
  {
   "cell_type": "code",
   "execution_count": 3,
   "id": "e041fe9c-308f-4e1e-80d4-173fb6ecf223",
   "metadata": {},
   "outputs": [],
   "source": [
    "msgs.seek(108)"
   ]
  },
  {
   "cell_type": "code",
   "execution_count": 4,
   "id": "f19226ef-55ef-4d6e-84c2-758d9cf2c9a2",
   "metadata": {},
   "outputs": [
    {
     "name": "stdout",
     "output_type": "stream",
     "text": [
      "109:Total column:integrated mass density (instant):lambert:atmosphereSingleLayer:level 0 considered as a single layer:fcst time 1 hrs:from 202201121600\n"
     ]
    }
   ],
   "source": [
    "for m in msgs.read(1):\n",
    "    print(m)"
   ]
  },
  {
   "cell_type": "code",
   "execution_count": 5,
   "id": "fd2b8b40-632d-43e3-ba2b-09e2996bb217",
   "metadata": {},
   "outputs": [],
   "source": [
    "msgs.seek(108)"
   ]
  },
  {
   "cell_type": "code",
   "execution_count": 6,
   "id": "5ec7a460-6a7c-44a3-93ab-e43b5b971a9c",
   "metadata": {},
   "outputs": [],
   "source": [
    "m = msgs.read(1)[0]"
   ]
  },
  {
   "cell_type": "code",
   "execution_count": 7,
   "id": "5c8c6229-9a7b-429c-b5f7-21f92a44b101",
   "metadata": {},
   "outputs": [
    {
     "data": {
      "text/plain": [
       "109:Total column:integrated mass density (instant):lambert:atmosphereSingleLayer:level 0 considered as a single layer:fcst time 1 hrs:from 202201121600"
      ]
     },
     "execution_count": 7,
     "metadata": {},
     "output_type": "execute_result"
    }
   ],
   "source": [
    "m"
   ]
  },
  {
   "cell_type": "code",
   "execution_count": 9,
   "id": "1f7f87ea-ef4d-4840-897b-7c459ed0a2af",
   "metadata": {},
   "outputs": [
    {
     "data": {
      "text/plain": [
       "('unknown', 'Total column', 'unknown', 'integrated mass density')"
      ]
     },
     "execution_count": 9,
     "metadata": {},
     "output_type": "execute_result"
    }
   ],
   "source": [
    "m[\"name\"], m[\"parameterName\"], m[\"units\"], m[\"parameterUnits\"]"
   ]
  },
  {
   "cell_type": "code",
   "execution_count": 15,
   "id": "2a9309b3-b6b8-4804-87d8-74119176ea36",
   "metadata": {},
   "outputs": [
    {
     "name": "stderr",
     "output_type": "stream",
     "text": [
      "/tmp/ipykernel_187/130856374.py:4: FutureWarning: elementwise comparison failed; returning scalar instead, but in the future will perform elementwise comparison\n",
      "  if v == \"COLMD\":\n"
     ]
    },
    {
     "name": "stdout",
     "output_type": "stream",
     "text": [
      "analDate not found\n",
      "validDate not found\n"
     ]
    }
   ],
   "source": [
    "for k in m.keys():\n",
    "    try:\n",
    "        v = m[k]\n",
    "        if v == \"COLMD\":\n",
    "            print(k, v)\n",
    "    except:\n",
    "        print(f\"{k} not found\")"
   ]
  },
  {
   "cell_type": "code",
   "execution_count": null,
   "id": "9b9b2aee-dd40-43a8-898b-7b7db4157e90",
   "metadata": {},
   "outputs": [],
   "source": [
    "msgs.close()"
   ]
  }
 ],
 "metadata": {
  "kernelspec": {
   "display_name": "Python 3 (ipykernel)",
   "language": "python",
   "name": "python3"
  },
  "language_info": {
   "codemirror_mode": {
    "name": "ipython",
    "version": 3
   },
   "file_extension": ".py",
   "mimetype": "text/x-python",
   "name": "python",
   "nbconvert_exporter": "python",
   "pygments_lexer": "ipython3",
   "version": "3.9.6"
  }
 },
 "nbformat": 4,
 "nbformat_minor": 5
}
