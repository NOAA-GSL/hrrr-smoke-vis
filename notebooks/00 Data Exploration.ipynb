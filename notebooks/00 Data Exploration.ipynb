{
 "cells": [
  {
   "cell_type": "markdown",
   "id": "80931f03-701e-4689-90f2-b92be08e87d6",
   "metadata": {},
   "source": [
    "# Data Exploration\n",
    "\n",
    "Exploring the format of the HRRR output files so that we can find:\n",
    "\n",
    "1. Vertically integrated smoke mass density (`MASSDEN`) for a given time over the Continental United States (CONUS)\n",
    "2. Vertical cross-section of smoke mass density at a single grid cell for constructing a vertical cross-section along a path\n",
    "\n",
    "## Data Source\n",
    "\n",
    "HRRR output is available here: https://nomads.ncep.noaa.gov/pub/data/nccf/com/\n",
    "\n",
    "### Naming Conventions\n",
    "\n",
    "- **nat** native grid\n",
    "- **prs** pressure grid\n",
    "- **sfc** surface variables only (although sometimes includes a couple vertical ones)\n",
    "- **para** parallel run\n",
    "- **prod** production\n",
    "- **exp** experimental\n",
    "\n",
    "The file names include the initialization time of the model run and the current forecast hour as an offset from the initialization time. For example, `hrrr.t00z.wrfnatf09.grib2` is output from the HRRR (`hrrr`), the initialization is 00:00GMT (`t00z`), the data is on native grid coordinates (wrfnat), and the forecast if for the ninth hour after the initialization time, _i.e._ 09:00GMT (`f09`)."
   ]
  },
  {
   "cell_type": "code",
   "execution_count": null,
   "id": "f6f011e0-dbeb-4f43-bcdd-2022b0b8f863",
   "metadata": {},
   "outputs": [],
   "source": []
  }
 ],
 "metadata": {
  "kernelspec": {
   "display_name": "Python 3 (ipykernel)",
   "language": "python",
   "name": "python3"
  },
  "language_info": {
   "codemirror_mode": {
    "name": "ipython",
    "version": 3
   },
   "file_extension": ".py",
   "mimetype": "text/x-python",
   "name": "python",
   "nbconvert_exporter": "python",
   "pygments_lexer": "ipython3",
   "version": "3.9.6"
  }
 },
 "nbformat": 4,
 "nbformat_minor": 5
}
